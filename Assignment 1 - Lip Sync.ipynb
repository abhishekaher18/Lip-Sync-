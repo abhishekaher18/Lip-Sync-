{
 "cells": [
  {
   "cell_type": "markdown",
   "id": "6391ad9a",
   "metadata": {},
   "source": [
    "#### Task 1: The objective of this assignment is to demonstrate your skills in creating an AI model that is proficient in lip-syncing i.e. synchronizing an audio file with a video file. Your task is to ensure the model is accurately matching the lip movements of the characters in the given video file with the corresponding audio file."
   ]
  },
  {
   "cell_type": "code",
   "execution_count": 1,
   "id": "63095271",
   "metadata": {},
   "outputs": [],
   "source": [
    "import os"
   ]
  },
  {
   "cell_type": "code",
   "execution_count": 2,
   "id": "9d0b67bb",
   "metadata": {},
   "outputs": [],
   "source": [
    "# importing the necessary libraries from MoviePy to synchronizes the video and audio to create a new video with lip-synced audio.\n",
    "from moviepy.editor import VideoFileClip, AudioFileClip\n"
   ]
  },
  {
   "cell_type": "code",
   "execution_count": 3,
   "id": "7b1a2b99",
   "metadata": {},
   "outputs": [],
   "source": [
    "# Loading the video and audio files\n",
    "video = VideoFileClip(\"C:\\\\Users\\\\ABHISHEK\\\\Desktop\\\\Python\\\\video.mp4\")\n",
    "audio = AudioFileClip(\"C:\\\\Users\\\\ABHISHEK\\\\Desktop\\\\Python\\\\output.wav\")\n"
   ]
  },
  {
   "cell_type": "code",
   "execution_count": 4,
   "id": "38cb0419",
   "metadata": {},
   "outputs": [],
   "source": [
    "# Getting the durations of the video and audio\n",
    "video_duration = video.duration\n",
    "audio_duration = audio.duration"
   ]
  },
  {
   "cell_type": "code",
   "execution_count": 5,
   "id": "69e9002b",
   "metadata": {},
   "outputs": [],
   "source": [
    "# Adjust the video duration to match the audio duration\n",
    "if video_duration < audio_duration:\n",
    "    # If the video is shorter, loop the video to match the audio duration\n",
    "    video = video.fx('loop', duration=audio_duration)\n",
    "else:\n",
    "    # If the video is longer, trim the video to match the audio duration\n",
    "    video = video.subclip(0, audio_duration)"
   ]
  },
  {
   "cell_type": "code",
   "execution_count": 6,
   "id": "59bdbf9d",
   "metadata": {},
   "outputs": [],
   "source": [
    "# Synchronize the video and audio durations\n",
    "video = video.set_audio(audio.set_duration(video.duration))"
   ]
  },
  {
   "cell_type": "code",
   "execution_count": 7,
   "id": "0aa8b1a1",
   "metadata": {},
   "outputs": [
    {
     "name": "stdout",
     "output_type": "stream",
     "text": [
      "Moviepy - Building video C:\\Users\\ABHISHEK\\Desktop\\Python\\lipsync.mp4.\n",
      "MoviePy - Writing audio in lipsyncTEMP_MPY_wvf_snd.mp4\n"
     ]
    },
    {
     "name": "stderr",
     "output_type": "stream",
     "text": [
      "                                                                                                                       \r"
     ]
    },
    {
     "name": "stdout",
     "output_type": "stream",
     "text": [
      "MoviePy - Done.\n",
      "Moviepy - Writing video C:\\Users\\ABHISHEK\\Desktop\\Python\\lipsync.mp4\n",
      "\n"
     ]
    },
    {
     "name": "stderr",
     "output_type": "stream",
     "text": [
      "                                                                                                                       \r"
     ]
    },
    {
     "name": "stdout",
     "output_type": "stream",
     "text": [
      "Moviepy - Done !\n",
      "Moviepy - video ready C:\\Users\\ABHISHEK\\Desktop\\Python\\lipsync.mp4\n"
     ]
    }
   ],
   "source": [
    "# Saving the synchronized video with lip-synced audio\n",
    "output_path = (\"C:\\\\Users\\\\ABHISHEK\\\\Desktop\\\\Python\\\\lipsync.mp4\")\n",
    "video.write_videofile(output_path, codec=\"libx264\", audio_codec=\"aac\")\n"
   ]
  },
  {
   "cell_type": "code",
   "execution_count": 8,
   "id": "38229958",
   "metadata": {},
   "outputs": [
    {
     "data": {
      "text/plain": [
       "0"
      ]
     },
     "execution_count": 8,
     "metadata": {},
     "output_type": "execute_result"
    }
   ],
   "source": [
    "# Opening the output video automatically\n",
    "os.system(f\"start {output_path}\")"
   ]
  },
  {
   "cell_type": "markdown",
   "id": "83487019",
   "metadata": {},
   "source": [
    "# Conclusion\n",
    "### Using MoviePy, I have successfully demonstrated the creation of a lip-syncing model that accurately synchronizes an audio file with a video file. By leveraging MoviePy's powerful editing capabilities, I was able to adjust the duration of the video to match the audio and synchronize the lip movements of the characters with the spoken words or sounds."
   ]
  }
 ],
 "metadata": {
  "kernelspec": {
   "display_name": "Python 3 (ipykernel)",
   "language": "python",
   "name": "python3"
  },
  "language_info": {
   "codemirror_mode": {
    "name": "ipython",
    "version": 3
   },
   "file_extension": ".py",
   "mimetype": "text/x-python",
   "name": "python",
   "nbconvert_exporter": "python",
   "pygments_lexer": "ipython3",
   "version": "3.9.13"
  }
 },
 "nbformat": 4,
 "nbformat_minor": 5
}
